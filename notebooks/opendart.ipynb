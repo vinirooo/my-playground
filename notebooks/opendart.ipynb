{
 "cells": [
  {
   "cell_type": "markdown",
   "metadata": {},
   "source": [
    "사업보고서 모든 내용을 Markdown 파일로 만드는 스크립트"
   ]
  },
  {
   "cell_type": "code",
   "execution_count": 1,
   "metadata": {},
   "outputs": [
    {
     "data": {
      "text/plain": [
       "True"
      ]
     },
     "execution_count": 1,
     "metadata": {},
     "output_type": "execute_result"
    }
   ],
   "source": [
    "import os\n",
    "import re\n",
    "import time\n",
    "import requests\n",
    "from bs4 import BeautifulSoup\n",
    "import pandas as pd\n",
    "import numpy as np\n",
    "import markdownify\n",
    "import OpenDartReader\n",
    "from dotenv import load_dotenv\n",
    "\n",
    "load_dotenv()"
   ]
  },
  {
   "cell_type": "code",
   "execution_count": 2,
   "metadata": {},
   "outputs": [],
   "source": [
    "api_key = os.environ[\"OPENDART_API_KEY\"]\n",
    "dart = OpenDartReader(api_key=api_key)"
   ]
  },
  {
   "cell_type": "code",
   "execution_count": 3,
   "metadata": {},
   "outputs": [],
   "source": [
    "def get_webpage_content(url):\n",
    "    response = requests.get(url)\n",
    "    html_content = response.text\n",
    "    soup = BeautifulSoup(html_content, \"html.parser\")\n",
    "    return soup\n",
    "\n",
    "\n",
    "def modify_html_tags(soup, selector, tag_name):\n",
    "    tags = soup.select(selector)\n",
    "    for tag in tags:\n",
    "        tag.name = tag_name\n",
    "        tag.string = tag.get_text()\n",
    "\n",
    "    return soup\n",
    "\n",
    "\n",
    "def save_webpage_as_markdown(url):\n",
    "    soup = get_webpage_content(url)\n",
    "\n",
    "    # CSS 셀렉터를 사용하여 태그 이름 변경\n",
    "    soup = modify_html_tags(soup, \"p.cover-title\", \"h1\")\n",
    "    soup = modify_html_tags(soup, \"p.section-1\", \"h1\")\n",
    "    soup = modify_html_tags(soup, \"p.section-2\", \"h2\")\n",
    "\n",
    "    markdown_content = markdownify.markdownify(str(soup.body), heading_style=\"ATX\")\n",
    "    return markdown_content\n",
    "\n",
    "\n",
    "def make_markdown_report(report_row):\n",
    "    rcept_no = report_row[\"rcept_no\"]\n",
    "    file_name = report_row[\"file_name\"]\n",
    "    file_name = f\".files/__사업보고서/{file_name}\"\n",
    "\n",
    "    df_pages = dart.sub_docs(rcept_no)\n",
    "    df_pages = df_pages[~df_pages[\"title\"].str.match(r\"^\\d\")]\n",
    "    df_pages = df_pages[~df_pages[\"title\"].str.startswith(\"【\")]\n",
    "\n",
    "    urls = df_pages[\"url\"].tolist()\n",
    "    markdown_content = \"\"\n",
    "    for url in urls:\n",
    "        time.sleep(0.3)\n",
    "        markdown_content += save_webpage_as_markdown(url)\n",
    "\n",
    "    with open(file_name, \"w\") as f:\n",
    "        f.write(markdown_content)\n",
    "\n",
    "\n",
    "def create_folder(path):\n",
    "    if not os.path.exists(path):\n",
    "        os.makedirs(path)"
   ]
  },
  {
   "cell_type": "code",
   "execution_count": 4,
   "metadata": {},
   "outputs": [
    {
     "name": "stdout",
     "output_type": "stream",
     "text": [
      "217190_제너셈_사업보고서_2023.md saved\n",
      "217190_제너셈_사업보고서_2022.md saved\n",
      "217190_제너셈_사업보고서_2021.md saved\n",
      "217190_제너셈_사업보고서_2020.md saved\n",
      "217190_제너셈_사업보고서_2019.md saved\n",
      "217190_제너셈_사업보고서_2018.md saved\n",
      "217190_제너셈_사업보고서_2017.md saved\n",
      "217190_제너셈_사업보고서_2016.md saved\n",
      "217190_제너셈_사업보고서_2015.md saved\n"
     ]
    }
   ],
   "source": [
    "ticker = \"217190\"\n",
    "df_reports = dart.list(ticker, kind=\"A\")\n",
    "df_reports = df_reports[df_reports[\"report_nm\"].str.contains(\"사업보고서\")]\n",
    "\n",
    "df_reports[\"year\"] = df_reports[\"report_nm\"].str.extract(r\"\\((\\d{4})\\.\\d{2}\\)\")\n",
    "df_reports = df_reports[[\"year\", \"corp_name\", \"stock_code\", \"rcept_no\"]]\n",
    "df_reports[\"file_name\"] = (\n",
    "    df_reports[\"stock_code\"]\n",
    "    + \"_\"\n",
    "    + df_reports[\"corp_name\"]\n",
    "    + \"_사업보고서_\"\n",
    "    + df_reports[\"year\"]\n",
    "    + \".md\"\n",
    ")\n",
    "\n",
    "create_folder(\".files/__사업보고서\")\n",
    "\n",
    "for index, row in df_reports.iterrows():\n",
    "    make_markdown_report(row)\n",
    "    print(f\"{row['file_name']} saved\")"
   ]
  },
  {
   "cell_type": "code",
   "execution_count": null,
   "metadata": {},
   "outputs": [],
   "source": []
  }
 ],
 "metadata": {
  "kernelspec": {
   "display_name": "quick",
   "language": "python",
   "name": "python3"
  },
  "language_info": {
   "codemirror_mode": {
    "name": "ipython",
    "version": 3
   },
   "file_extension": ".py",
   "mimetype": "text/x-python",
   "name": "python",
   "nbconvert_exporter": "python",
   "pygments_lexer": "ipython3",
   "version": "3.11.9"
  }
 },
 "nbformat": 4,
 "nbformat_minor": 2
}
